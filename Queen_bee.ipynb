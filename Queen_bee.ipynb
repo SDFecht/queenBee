{
 "cells": [
  {
   "cell_type": "code",
   "execution_count": 2,
   "metadata": {
    "collapsed": false
   },
   "outputs": [
   ],
   "source": [
    "import numpy as np\n",
    "np.set_printoptions(precision=4)\n",
    "from matplotlib import pyplot as plt"
   ]
  },
  {
   "cell_type": "code",
   "execution_count": 3,
   "metadata": {
    "collapsed": false
   },
   "outputs": [
   ],
   "source": [
    "#Rastrigin function\n",
    "def rastrigin(x_np_arr, A = 10):\n",
    "    return np.array([A*x_np_arr.size + np.sum(np.power(x_np_arr, 2) - A*np.cos(np.deg2rad(2*x_np_arr*np.pi)))])"
   ]
  },
  {
   "cell_type": "code",
   "execution_count": 4,
   "metadata": {
    "collapsed": false
   },
   "outputs": [
   ],
   "source": [
    "#Sphere function\n",
    "def sphere(x_np_arr):\n",
    "    return np.array([np.sum(np.power(x_np_arr, 2))])"
   ]
  },
  {
   "cell_type": "code",
   "execution_count": 5,
   "metadata": {
    "collapsed": false
   },
   "outputs": [
   ],
   "source": [
    "#Rosenbrock function\n",
    "def rosenbrock(x_np_arr):\n",
    "    return np.array([np.sum(100 * np.power(x_np_arr[1:] - np.power(x_np_arr[:-1], 2), 2) + np.power(1 - x_np_arr[:-1], 2))])"
   ]
  },
  {
   "cell_type": "code",
   "execution_count": 6,
   "metadata": {
    "collapsed": false
   },
   "outputs": [
   ],
   "source": [
    "#Queen bee original\n",
    "\n",
    "class InitQueenBeeHive:\n",
    "    def __init__(self, DIM, MIN, MAX, ELEMENT_NO, FUNCTION):\n",
    "        self.DIM = DIM\n",
    "        self.MIN = MIN\n",
    "        self.MAX = MAX\n",
    "        self.ELEMENT_NO = ELEMENT_NO\n",
    "        self.FUNCTION = FUNCTION\n",
    "\n",
    "    def __rastrigin(self, x_np_arr, A = 10):\n",
    "        return np.array([A*self.DIM + np.sum(np.power(x_np_arr, 2) - A*np.cos(np.deg2rad(2*x_np_arr*np.pi)))])\n",
    "    \n",
    "    def __sphere(self, x_np_arr):\n",
    "        return np.array([np.sum(np.power(x_np_arr, 2))])\n",
    "    \n",
    "    def __rosenbrock(self, x_np_arr):\n",
    "        return np.array([np.sum(100 * np.power(x_np_arr[1:] - np.power(x_np_arr[:-1], 2), 2) + np.power(1 - x_np_arr[:-1], 2))])\n",
    "    \n",
    "    def populate(self):\n",
    "        p = np.array([np.array([np.random.uniform(self.MIN, self.MAX) for _ in range(self.DIM)]) for _ in range(self.ELEMENT_NO)])\n",
    "        if self.FUNCTION == 1:\n",
    "            return np.hstack((p, [self.__rastrigin(x_np_arr) for x_np_arr in p]))\n",
    "        elif self.FUNCTION == 2:\n",
    "            return np.hstack((p, [self.__sphere(x_np_arr) for x_np_arr in p]))\n",
    "        else:\n",
    "            return np.hstack((p, [self.__rosenbrock(x_np_arr) for x_np_arr in p]))\n"
   ]
  },
  {
   "cell_type": "code",
   "execution_count": 7,
   "metadata": {
    "collapsed": false
   },
   "outputs": [
   ],
   "source": [
    "def findQueenIndex(population):\n",
    "    return np.argmin(population[:,-1:])"
   ]
  },
  {
   "cell_type": "code",
   "execution_count": 9,
   "metadata": {
    "collapsed": false
   },
   "outputs": [
   ],
   "source": [
    "def tournamentSelection(pop_size, fitness, t_size, exclusion = -1):\n",
    "    arr = np.random.choice(pop_size, t_size, replace=False)\n",
    "    while np.isin(exclusion, arr):\n",
    "        arr = np.random.choice(pop_size, t_size, replace=False)\n",
    "    return int(np.argwhere(fitness == np.min(np.take(fitness, arr)))[0])"
   ]
  },
  {
   "cell_type": "code",
   "execution_count": 10,
   "metadata": {
    "collapsed": false
   },
   "outputs": [
   ],
   "source": [
    "def findDrones(population, queenIdx):\n",
    "    minDroneNumb = 1\n",
    "    np2 = int(population[:,-1:].size // 2) + 1\n",
    "    dronesNumber = np.random.randint(minDroneNumb, np2)\n",
    "    drones = np.unique(np.array([tournamentSelection(population[:,-1:].size, population[:,-1:].flatten(), 3, queenIdx) for _ in range(dronesNumber)]))\n",
    "    return drones"
   ]
  },
  {
   "cell_type": "code",
   "execution_count": 11,
   "metadata": {
    "collapsed": false
   },
   "outputs": [
   ],
   "source": [
    "def linearCombinationCrossover(population, queenIdx, dronesIdx, linearCombinationRate):\n",
    "    queen = np.take(population, queenIdx, axis=0)\n",
    "    drones = np.take(population, dronesIdx, axis=0)\n",
    "    children = queen + np.multiply(queen - drones, linearCombinationRate)\n",
    "    children = np.delete(children, np.s_[-1:], axis=1)\n",
    "    children = np.hstack((children, np.array([np.NINF for i in children])[:, None]))\n",
    "    crossedPopulation = np.append(np.delete(population, dronesIdx, 0), children, 0)\n",
    "    np.random.shuffle(crossedPopulation)\n",
    "    return crossedPopulation"
   ]
  },
  {
   "cell_type": "code",
   "execution_count": 12,
   "metadata": {
    "collapsed": false
   },
   "outputs": [
   ],
   "source": [
    "def mutation(combinedPopulation, xi, pm, psm, low, high, dim):\n",
    "    rate = int(np.floor(xi * combinedPopulation[:,-1:].size))\n",
    "    normalMutation = np.hstack((combinedPopulation[ : rate], [np.random.random_sample((1,)) for i in combinedPopulation[ : rate]]))\n",
    "    normalMutation = np.where(pm < normalMutation[:, -1:], normalMutation, normalMutation + \n",
    "                              np.hstack((np.full((1, dim), np.random.uniform(low, high)).flatten(), np.array([np.NINF, np.NINF]))))\n",
    "    strongMutation = np.hstack((combinedPopulation[ rate : ], [np.random.random_sample((1,)) for i in combinedPopulation[ rate : ]]))\n",
    "    strongMutation = np.where(psm < strongMutation[:, -1:], strongMutation, strongMutation + \n",
    "                              np.hstack((np.full((1, dim), np.random.uniform(low, high)).flatten(), np.array([np.NINF, np.NINF]))))\n",
    "    concat = np.delete(np.concatenate((normalMutation, strongMutation), axis=0), -1, axis=1)\n",
    "    return concat"
   ]
  },
  {
   "cell_type": "code",
   "execution_count": 13,
   "metadata": {
    "collapsed": false
   },
   "outputs": [
   ],
   "source": [
    "def evaluate(mutatedPopulation, function):\n",
    "    infinityValues = np.where(mutatedPopulation[:, -1:] < 0)[0]\n",
    "    toBeEvaluate = np.take(mutatedPopulation, infinityValues, axis=0)\n",
    "    deletedInfinities = np.delete(mutatedPopulation, infinityValues, axis=0)\n",
    "    toBeEvaluate = np.delete(toBeEvaluate, np.s_[-1:], axis=1)\n",
    "    if function == 1:\n",
    "        toBeEvaluate = np.hstack((toBeEvaluate, [rastrigin(x_np_arr) for x_np_arr in toBeEvaluate]))\n",
    "    elif function == 2:\n",
    "        toBeEvaluate = np.hstack((toBeEvaluate, [sphere(x_np_arr) for x_np_arr in toBeEvaluate]))\n",
    "    else:\n",
    "        toBeEvaluate = np.hstack((toBeEvaluate, [rosenbrock(x_np_arr) for x_np_arr in toBeEvaluate]))\n",
    "    return np.concatenate((deletedInfinities, toBeEvaluate), axis=0)"
   ]
  },
  {
   "cell_type": "code",
   "execution_count": 14,
   "metadata": {
    "collapsed": false
   },
   "outputs": [
   ],
   "source": [
    "DIM = 2\n",
    "MIN = -5\n",
    "MAX = 5\n",
    "ELEMENT_NO = 20\n",
    "XI = 0.8\n",
    "linearCombinationRate = 0.5 #0-1 halves the distance at 0.5\n",
    "pm = 0.05\n",
    "psm = 0.8\n",
    "low = -0.1\n",
    "high = 0.1\n",
    "FunctionNo = 2\n",
    "\n",
    "hive = InitQueenBeeHive(DIM, MIN, MAX, ELEMENT_NO, FunctionNo)\n",
    "population = hive.populate()\n",
    "\n",
    "queenArray = np.array([])\n",
    "avgArray = np.array([])\n",
    "\n",
    "for i in range(1000):\n",
    "    queenIdx = findQueenIndex(population)\n",
    "    queenArray = np.append(queenArray, population[queenIdx][-1:])\n",
    "    avgArray = np.append(avgArray, np.average(population[-1:]))\n",
    "    dronesIdx = findDrones(population, queenIdx)\n",
    "    crossedPopulation = linearCombinationCrossover(population, queenIdx, dronesIdx, linearCombinationRate)\n",
    "    mutatedPop = mutation(crossedPopulation, XI, pm, psm, low, high, DIM)\n",
    "    population = evaluate(mutatedPop, FunctionNo)\n"
   ]
  },
  {
   "cell_type": "code",
   "execution_count": 16,
   "metadata": {
    "collapsed": false
   },
   "outputs": [
    {
     "name": "stdout",
     "output_type": "stream",
     "text": [
      "[0.0078 0.0064 0.0001]\n"
     ]
    },
    {
     "data": {
      "image/png": "[encoded data removed]",
      "text/plain": [
       "<Figure size 864x504 with 1 Axes>"
      ]
     },
     "execution_count": 16,
     "metadata": {
      "image/png": {
       "height": 411,
       "width": 706
      },
      "needs_background": "light"
     },
     "output_type": "execute_result"
    }
   ],
   "source": [
    "plt.plot(range(0, 1000), queenArray)\n",
    "#plt.plot(range(0, 1000), avgArray)\n",
    "queenIdx = findQueenIndex(population)\n",
    "print(population[queenIdx])"
   ]
  },
  {
   "cell_type": "code",
   "execution_count": 0,
   "metadata": {
    "collapsed": false
   },
   "outputs": [
   ],
   "source": [
   ]
  },
  {
   "cell_type": "code",
   "execution_count": 0,
   "metadata": {
    "collapsed": false
   },
   "outputs": [
   ],
   "source": [
   ]
  },
  {
   "cell_type": "code",
   "execution_count": 0,
   "metadata": {
    "collapsed": false
   },
   "outputs": [
   ],
   "source": [
   ]
  }
 ],
 "metadata": {
  "kernelspec": {
   "display_name": "Python 3 (system-wide)",
   "language": "python",
   "metadata": {
    "cocalc": {
     "description": "Python 3 programming language",
     "priority": 100,
     "url": "https://www.python.org/"
    }
   },
   "name": "python3",
   "resource_dir": "/ext/jupyter/kernels/python3"
  },
  "language_info": {
   "codemirror_mode": {
    "name": "ipython",
    "version": 3
   },
   "file_extension": ".py",
   "mimetype": "text/x-python",
   "name": "python",
   "nbconvert_exporter": "python",
   "pygments_lexer": "ipython3",
   "version": "3.8.10"
  }
 },
 "nbformat": 4,
 "nbformat_minor": 4
}
